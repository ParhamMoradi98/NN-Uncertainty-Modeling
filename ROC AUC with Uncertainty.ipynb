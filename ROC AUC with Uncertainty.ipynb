{
  "nbformat": 4,
  "nbformat_minor": 0,
  "metadata": {
    "colab": {
      "provenance": []
    },
    "kernelspec": {
      "name": "python3",
      "display_name": "Python 3"
    },
    "language_info": {
      "name": "python"
    }
  },
  "cells": [
    {
      "cell_type": "code",
      "execution_count": 21,
      "metadata": {
        "colab": {
          "base_uri": "https://localhost:8080/"
        },
        "id": "gs_415WnDHzu",
        "outputId": "41b5ea1e-bb01-4d29-89a5-3f6cca592cf5"
      },
      "outputs": [
        {
          "output_type": "stream",
          "name": "stdout",
          "text": [
            "total samples   1000 number of 1s   419\n"
          ]
        }
      ],
      "source": [
        "# Data Generation\n",
        "import numpy as np\n",
        "import torch\n",
        "import torch.nn as nn\n",
        "import torch.optim as optim\n",
        "from sklearn.model_selection import train_test_split\n",
        "lr = 0.001\n",
        "n_samples = 1000\n",
        "X = np.random.randn(n_samples,2)\n",
        "noiseless_lables= (np.sin([X[:,0]])+ 0.5 *X[:,1]**2+ 0.3*X[:,0]*X[:,1]>0.5).astype(int)\n",
        "noise  = np.random.randn(n_samples)*(0.1+0.3*X[:,1]**2)\n",
        "noisy_lables = noiseless_lables+ noise\n",
        "y = (noisy_lables>0.5)\n",
        "y = y.astype(int)\n",
        "print(\"total samples  \" , n_samples, \"number of 1s  \", np.sum(y==1))"
      ]
    },
    {
      "cell_type": "code",
      "source": [
        "# Getting samples ready for training the N.N\n",
        "y = y.reshape(-1)\n",
        "\n",
        "x_train, x_temp, y_train, y_temp = train_test_split(X, y, test_size=0.4)  # 60% train, 40% temp\n",
        "x_val, x_test, y_val, y_test = train_test_split(x_temp, y_temp, test_size=0.5)  # 20% validation, 20% test\n",
        "\n",
        "x_train_tensor = torch.tensor(x_train, dtype=torch.float32)\n",
        "x_val_tensor = torch.tensor(x_val, dtype=torch.float32)\n",
        "x_test_tensor = torch.tensor(x_test, dtype=torch.float32)\n",
        "y_train_tensor = torch.tensor(y_train, dtype=torch.float32).view(-1, 1)\n",
        "y_val_tensor = torch.tensor(y_val, dtype=torch.float32).view(-1, 1)\n",
        "y_test_tensor = torch.tensor(y_test, dtype=torch.float32).view(-1, 1)\n"
      ],
      "metadata": {
        "id": "KCESrvQfDNv3"
      },
      "execution_count": 22,
      "outputs": []
    },
    {
      "cell_type": "code",
      "source": [
        "# Training a model with Heteroskedastic loss function without changing delta\n",
        "from sklearn.metrics import roc_auc_score, roc_curve, accuracy_score, precision_score, recall_score, f1_score\n",
        "import matplotlib.pyplot as plt\n",
        "\n",
        "class HeteroskedasticNN(nn.Module):\n",
        "      def __init__(self, input_len):\n",
        "          super(HeteroskedasticNN, self).__init__()\n",
        "          self.fc1 = nn.Linear(input_len,64)\n",
        "          self.fc2=nn.Linear(64,64)\n",
        "          self.mean = nn.Linear(64,1)\n",
        "          self.log_var = nn.Linear(64,1)\n",
        "      def forward(self, x):\n",
        "        x = torch.relu(self.fc1(x))\n",
        "        x= torch.relu(self.fc2(x))\n",
        "        mean_pred = self.mean(x)\n",
        "        log_var_pred = self.log_var(x)\n",
        "        return mean_pred, log_var_pred\n",
        "\n",
        "# loss for each sample is:\n",
        "def heteroskedastic_loss(y_true, y_pred_mean, y_pred_log_var):\n",
        "      # print(\"hey\", y_true)\n",
        "      var = torch.exp(y_pred_log_var) # e^log(var)= var!\n",
        "      loss = 0.5* torch.log(var) + 0.5* ((y_true - y_pred_mean)**2)/var\n",
        "      return loss.mean()\n",
        "\n",
        "model = HeteroskedasticNN(input_len=2)\n",
        "optimizer = optim.Adam(model.parameters(), lr =0.001)\n",
        "\n",
        "# Function to sample predictions from heteroskedastic outputs\n",
        "def sample_predictions(mean_pred, log_var_pred, n_samples=100):\n",
        "    std_dev_pred = torch.exp(0.5 * log_var_pred)  # Convert log-variance to standard deviation\n",
        "    samples = []\n",
        "    for _ in range(n_samples):\n",
        "        sampled_preds = mean_pred + std_dev_pred * torch.randn_like(std_dev_pred)\n",
        "        sampled_preds = torch.sigmoid(sampled_preds)  # Apply sigmoid to constrain values between 0 and 1\n",
        "        samples.append(sampled_preds)\n",
        "    return torch.stack(samples, dim=0).mean(dim=0)  # Return the mean of the samples\n",
        "model = HeteroskedasticNN(input_len=2)\n",
        "optimizer = optim.Adam(model.parameters(), lr=0.001)\n",
        "num_epochs = 100\n",
        "for epoch in range(num_epochs):\n",
        "      model.train()\n",
        "      mean_pred, log_var_pred = model(x_train_tensor)\n",
        "      loss = heteroskedastic_loss(y_train_tensor, mean_pred,log_var_pred)\n",
        "      optimizer.zero_grad()\n",
        "      loss.backward()\n",
        "      optimizer.step()\n",
        "\n",
        "\n",
        "model.eval()\n",
        "with torch.no_grad():\n",
        "    mean_pred, log_var_pred = model(x_val_tensor)\n",
        "    sampled_preds = sample_predictions(mean_pred, log_var_pred)\n",
        "    fpr, tpr, thresholds = roc_curve(y_val_tensor.numpy().reshape(-1), sampled_preds.numpy())\n",
        "    threshold_index  =    np.argmax(tpr - fpr)\n",
        "    best_threshold = thresholds[threshold_index]\n",
        "    print(\"best threshold found   \", best_threshold)\n",
        "    roc_auc_val = roc_auc_score(y_val_tensor.numpy().reshape(-1), sampled_preds.numpy())\n",
        "    plt.plot(fpr, tpr)\n",
        "    plt.plot([0, 1], [0, 1] )\n",
        "    plt.xlabel('False Positive Rate')\n",
        "    plt.ylabel('True Positive Rate')\n",
        "    plt.legend(loc=\"lower right\")\n",
        "    plt.show()\n",
        "    print (\"ROC AUC score :       \" , roc_auc_val)"
      ],
      "metadata": {
        "colab": {
          "base_uri": "https://localhost:8080/",
          "height": 521
        },
        "id": "4A2NMgtuDsKG",
        "outputId": "dd8b1ce1-bf34-4405-9824-ebac9f5e1fef"
      },
      "execution_count": 23,
      "outputs": [
        {
          "output_type": "stream",
          "name": "stderr",
          "text": [
            "WARNING:matplotlib.legend:No artists with labels found to put in legend.  Note that artists whose label start with an underscore are ignored when legend() is called with no argument.\n"
          ]
        },
        {
          "output_type": "stream",
          "name": "stdout",
          "text": [
            "best threshold found    0.60049134\n"
          ]
        },
        {
          "output_type": "display_data",
          "data": {
            "text/plain": [
              "<Figure size 640x480 with 1 Axes>"
            ],
            "image/png": "[encoded data removed]"
          },
          "metadata": {}
        },
        {
          "output_type": "stream",
          "name": "stdout",
          "text": [
            "ROC AUC score :        0.9424178474525172\n"
          ]
        }
      ]
    },
    {
      "cell_type": "code",
      "source": [
        "# now I use the best threshold found to test the model\n",
        "\n",
        "with torch.no_grad():\n",
        "    mean_pred, log_var_pred = model(x_test_tensor)\n",
        "\n",
        "    sampled_preds = sample_predictions(mean_pred, log_var_pred)\n",
        "\n",
        "    y_pred_binary = (sampled_preds >= best_threshold).float()\n",
        "\n",
        "    y_pred_binary = y_pred_binary.numpy().reshape(-1)\n",
        "    y_test_tensor = y_test_tensor.numpy().reshape(-1)\n",
        "\n",
        "    accuracy_delta = accuracy_score(y_test_tensor, y_pred_binary)\n",
        "    print(\"Accuracy is :   \", accuracy_delta)\n",
        "\n",
        "    precision_delta = precision_score(y_test_tensor, y_pred_binary)\n",
        "    print(\"precision_score is :   \", precision_delta)\n",
        "\n",
        "    recall_delta = recall_score(y_test_tensor, y_pred_binary)\n",
        "    print(\"recall_score is :   \", recall_delta)\n",
        "\n",
        "    f1_delta = f1_score(y_test_tensor, y_pred_binary)\n",
        "    print(\"f1_score is :   \", f1_delta)"
      ],
      "metadata": {
        "colab": {
          "base_uri": "https://localhost:8080/"
        },
        "id": "JtzNHEAIUwZU",
        "outputId": "646d78d9-0775-41e4-e48c-4e100f8279f5"
      },
      "execution_count": 24,
      "outputs": [
        {
          "output_type": "stream",
          "name": "stdout",
          "text": [
            "Accuracy is :    0.86\n",
            "precision_score is :    0.7659574468085106\n",
            "recall_score is :    0.9230769230769231\n",
            "f1_score is :    0.8372093023255814\n"
          ]
        }
      ]
    }
  ]
}